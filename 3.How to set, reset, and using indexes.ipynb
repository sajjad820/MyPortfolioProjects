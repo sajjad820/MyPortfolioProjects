{
 "cells": [
  {
   "cell_type": "code",
   "execution_count": 1,
   "metadata": {},
   "outputs": [],
   "source": [
    "import pandas as pd "
   ]
  },
  {
   "cell_type": "code",
   "execution_count": 2,
   "metadata": {},
   "outputs": [],
   "source": [
    "student = {'first_name': ['alter','shirin','qiqi','ozge','hisam'],\n",
    "           'last_name':['gudu','mony','tai','bisgin','gudu'],\n",
    "           'email':['alter_gudu12@gmail.com','shirinmony@gmail.com','qiqi34@yahoo.com','bisginozge@gmail.com','hismgudu@gmail.com'],\n",
    "           'matri. num':['10243','50678','76545','32145','67856']}"
   ]
  },
  {
   "cell_type": "code",
   "execution_count": 5,
   "metadata": {},
   "outputs": [
    {
     "data": {
      "text/html": [
       "<div>\n",
       "<style scoped>\n",
       "    .dataframe tbody tr th:only-of-type {\n",
       "        vertical-align: middle;\n",
       "    }\n",
       "\n",
       "    .dataframe tbody tr th {\n",
       "        vertical-align: top;\n",
       "    }\n",
       "\n",
       "    .dataframe thead th {\n",
       "        text-align: right;\n",
       "    }\n",
       "</style>\n",
       "<table border=\"1\" class=\"dataframe\">\n",
       "  <thead>\n",
       "    <tr style=\"text-align: right;\">\n",
       "      <th></th>\n",
       "      <th>first_name</th>\n",
       "      <th>last_name</th>\n",
       "      <th>email</th>\n",
       "      <th>matri. num</th>\n",
       "    </tr>\n",
       "  </thead>\n",
       "  <tbody>\n",
       "    <tr>\n",
       "      <th>0</th>\n",
       "      <td>alter</td>\n",
       "      <td>gudu</td>\n",
       "      <td>alter_gudu12@gmail.com</td>\n",
       "      <td>10243</td>\n",
       "    </tr>\n",
       "    <tr>\n",
       "      <th>1</th>\n",
       "      <td>shirin</td>\n",
       "      <td>mony</td>\n",
       "      <td>shirinmony@gmail.com</td>\n",
       "      <td>50678</td>\n",
       "    </tr>\n",
       "    <tr>\n",
       "      <th>2</th>\n",
       "      <td>qiqi</td>\n",
       "      <td>tai</td>\n",
       "      <td>qiqi34@yahoo.com</td>\n",
       "      <td>76545</td>\n",
       "    </tr>\n",
       "    <tr>\n",
       "      <th>3</th>\n",
       "      <td>ozge</td>\n",
       "      <td>bisgin</td>\n",
       "      <td>bisginozge@gmail.com</td>\n",
       "      <td>32145</td>\n",
       "    </tr>\n",
       "    <tr>\n",
       "      <th>4</th>\n",
       "      <td>hisam</td>\n",
       "      <td>gudu</td>\n",
       "      <td>hismgudu@gmail.com</td>\n",
       "      <td>67856</td>\n",
       "    </tr>\n",
       "  </tbody>\n",
       "</table>\n",
       "</div>"
      ],
      "text/plain": [
       "  first_name last_name                   email matri. num\n",
       "0      alter      gudu  alter_gudu12@gmail.com      10243\n",
       "1     shirin      mony    shirinmony@gmail.com      50678\n",
       "2       qiqi       tai        qiqi34@yahoo.com      76545\n",
       "3       ozge    bisgin    bisginozge@gmail.com      32145\n",
       "4      hisam      gudu      hismgudu@gmail.com      67856"
      ]
     },
     "execution_count": 5,
     "metadata": {},
     "output_type": "execute_result"
    }
   ],
   "source": [
    "student_df= pd.DataFrame(student)\n",
    "student_df"
   ]
  },
  {
   "cell_type": "markdown",
   "metadata": {},
   "source": [
    "Setting index to on a specific column with unique values for every rows  "
   ]
  },
  {
   "cell_type": "code",
   "execution_count": null,
   "metadata": {},
   "outputs": [],
   "source": [
    "student_df.set_index('email') #here email has unique values for every single rows that is why 'email' has been chosen \n",
    "student_df.set_index('email', inplace=True) #when we will use inplace=True, 'email' column will be index of the entire dataset\n",
    "                                            #there will be no more default integer index in the entire dataset. However, with 'iloc' funcion we can get the values using default integer index "
   ]
  },
  {
   "cell_type": "code",
   "execution_count": 17,
   "metadata": {},
   "outputs": [
    {
     "data": {
      "text/plain": [
       "'50678'"
      ]
     },
     "execution_count": 17,
     "metadata": {},
     "output_type": "execute_result"
    }
   ],
   "source": [
    "student_df.loc['shirinmony@gmail.com'] #all details about shirin mony \n",
    "#OR \n",
    "student_df.iloc[1] #with iloc funcion we can get the values using default integer index\n",
    "#student_df.loc['shirinmony@gmail.com','matri. num']# looking for only matriculation number "
   ]
  },
  {
   "cell_type": "markdown",
   "metadata": {},
   "source": [
    "How to reset the default integer index for entire dataset "
   ]
  },
  {
   "cell_type": "code",
   "execution_count": 19,
   "metadata": {},
   "outputs": [
    {
     "data": {
      "text/html": [
       "<div>\n",
       "<style scoped>\n",
       "    .dataframe tbody tr th:only-of-type {\n",
       "        vertical-align: middle;\n",
       "    }\n",
       "\n",
       "    .dataframe tbody tr th {\n",
       "        vertical-align: top;\n",
       "    }\n",
       "\n",
       "    .dataframe thead th {\n",
       "        text-align: right;\n",
       "    }\n",
       "</style>\n",
       "<table border=\"1\" class=\"dataframe\">\n",
       "  <thead>\n",
       "    <tr style=\"text-align: right;\">\n",
       "      <th></th>\n",
       "      <th>email</th>\n",
       "      <th>first_name</th>\n",
       "      <th>last_name</th>\n",
       "      <th>matri. num</th>\n",
       "    </tr>\n",
       "  </thead>\n",
       "  <tbody>\n",
       "    <tr>\n",
       "      <th>0</th>\n",
       "      <td>alter_gudu12@gmail.com</td>\n",
       "      <td>alter</td>\n",
       "      <td>gudu</td>\n",
       "      <td>10243</td>\n",
       "    </tr>\n",
       "    <tr>\n",
       "      <th>1</th>\n",
       "      <td>shirinmony@gmail.com</td>\n",
       "      <td>shirin</td>\n",
       "      <td>mony</td>\n",
       "      <td>50678</td>\n",
       "    </tr>\n",
       "    <tr>\n",
       "      <th>2</th>\n",
       "      <td>qiqi34@yahoo.com</td>\n",
       "      <td>qiqi</td>\n",
       "      <td>tai</td>\n",
       "      <td>76545</td>\n",
       "    </tr>\n",
       "    <tr>\n",
       "      <th>3</th>\n",
       "      <td>bisginozge@gmail.com</td>\n",
       "      <td>ozge</td>\n",
       "      <td>bisgin</td>\n",
       "      <td>32145</td>\n",
       "    </tr>\n",
       "    <tr>\n",
       "      <th>4</th>\n",
       "      <td>hismgudu@gmail.com</td>\n",
       "      <td>hisam</td>\n",
       "      <td>gudu</td>\n",
       "      <td>67856</td>\n",
       "    </tr>\n",
       "  </tbody>\n",
       "</table>\n",
       "</div>"
      ],
      "text/plain": [
       "                    email first_name last_name matri. num\n",
       "0  alter_gudu12@gmail.com      alter      gudu      10243\n",
       "1    shirinmony@gmail.com     shirin      mony      50678\n",
       "2        qiqi34@yahoo.com       qiqi       tai      76545\n",
       "3    bisginozge@gmail.com       ozge    bisgin      32145\n",
       "4      hismgudu@gmail.com      hisam      gudu      67856"
      ]
     },
     "execution_count": 19,
     "metadata": {},
     "output_type": "execute_result"
    }
   ],
   "source": [
    "student_df.reset_index(inplace=True)\n",
    "student_df"
   ]
  },
  {
   "cell_type": "markdown",
   "metadata": {},
   "source": [
    "Changing the default integer index to a specific column index with unique values during loading the real world dataset "
   ]
  },
  {
   "cell_type": "code",
   "execution_count": 26,
   "metadata": {},
   "outputs": [],
   "source": [
    "ds= pd.read_csv('D:\\Data Analysis Project\\survey_data\\survey_results_public.csv', index_col='ResponseId')\n",
    "schema_ds= pd.read_csv('D:\\Data Analysis Project\\survey_data\\survey_results_schema.csv', index_col='qname')"
   ]
  },
  {
   "cell_type": "code",
   "execution_count": 35,
   "metadata": {},
   "outputs": [],
   "source": [
    "pd.set_option('display.max_columns',80)\n",
    "pd.set_option('display.max_rows',80)"
   ]
  },
  {
   "cell_type": "code",
   "execution_count": null,
   "metadata": {},
   "outputs": [],
   "source": [
    "schema_ds.sort_index(ascending=False)"
   ]
  },
  {
   "cell_type": "code",
   "execution_count": 37,
   "metadata": {},
   "outputs": [],
   "source": [
    "schema_ds.sort_index(inplace=True) #to have the index permanently on dataset "
   ]
  },
  {
   "cell_type": "code",
   "execution_count": 32,
   "metadata": {},
   "outputs": [
    {
     "data": {
      "text/plain": [
       "'How frequently would you say you visit Stack Overflow?'"
      ]
     },
     "execution_count": 32,
     "metadata": {},
     "output_type": "execute_result"
    }
   ],
   "source": [
    "schema_ds.loc['SOVisitFreq', 'question'] # exploring the information based on the attribure level using column index"
   ]
  }
 ],
 "metadata": {
  "kernelspec": {
   "display_name": "Python 3.8.8 ('base')",
   "language": "python",
   "name": "python3"
  },
  "language_info": {
   "codemirror_mode": {
    "name": "ipython",
    "version": 3
   },
   "file_extension": ".py",
   "mimetype": "text/x-python",
   "name": "python",
   "nbconvert_exporter": "python",
   "pygments_lexer": "ipython3",
   "version": "3.8.8"
  },
  "orig_nbformat": 4,
  "vscode": {
   "interpreter": {
    "hash": "3ff18d5e86b39a3a6d7a101f764259d416c0a93e9c25ee877442cf4363983003"
   }
  }
 },
 "nbformat": 4,
 "nbformat_minor": 2
}
